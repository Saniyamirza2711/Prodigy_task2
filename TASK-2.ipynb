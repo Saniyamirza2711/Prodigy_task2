{
 "cells": [
  {
   "cell_type": "code",
   "execution_count": 72,
   "id": "4536d433-9763-4615-a632-fb9e1814d62c",
   "metadata": {},
   "outputs": [],
   "source": [
    "import pandas as pd\n",
    "import matplotlib.pyplot as plt\n",
    "import seaborn as sns"
   ]
  },
  {
   "cell_type": "code",
   "execution_count": 73,
   "id": "fe53c5d9-df63-45a6-a04d-7336c8fcb545",
   "metadata": {},
   "outputs": [],
   "source": [
    "data=pd.read_csv(\"modified_test.csv\")"
   ]
  },
  {
   "cell_type": "code",
   "execution_count": 74,
   "id": "72b9e836-1c0b-4ec9-96bb-7d042e14d15a",
   "metadata": {},
   "outputs": [
    {
     "data": {
      "text/html": [
       "<div>\n",
       "<style scoped>\n",
       "    .dataframe tbody tr th:only-of-type {\n",
       "        vertical-align: middle;\n",
       "    }\n",
       "\n",
       "    .dataframe tbody tr th {\n",
       "        vertical-align: top;\n",
       "    }\n",
       "\n",
       "    .dataframe thead th {\n",
       "        text-align: right;\n",
       "    }\n",
       "</style>\n",
       "<table border=\"1\" class=\"dataframe\">\n",
       "  <thead>\n",
       "    <tr style=\"text-align: right;\">\n",
       "      <th></th>\n",
       "      <th>ID</th>\n",
       "      <th>Class</th>\n",
       "      <th>FullName</th>\n",
       "      <th>Gender</th>\n",
       "      <th>Years</th>\n",
       "      <th>Siblings_Spouses</th>\n",
       "      <th>Parents_Children</th>\n",
       "      <th>BookingCode</th>\n",
       "      <th>PricePaid</th>\n",
       "      <th>RoomNumber</th>\n",
       "      <th>Port</th>\n",
       "    </tr>\n",
       "  </thead>\n",
       "  <tbody>\n",
       "    <tr>\n",
       "      <th>0</th>\n",
       "      <td>101</td>\n",
       "      <td>First</td>\n",
       "      <td>James</td>\n",
       "      <td>Female</td>\n",
       "      <td>34.5</td>\n",
       "      <td>2</td>\n",
       "      <td>0</td>\n",
       "      <td>597891</td>\n",
       "      <td>186.30</td>\n",
       "      <td>NaN</td>\n",
       "      <td>Queenstown</td>\n",
       "    </tr>\n",
       "    <tr>\n",
       "      <th>1</th>\n",
       "      <td>102</td>\n",
       "      <td>Third</td>\n",
       "      <td>John</td>\n",
       "      <td>Male</td>\n",
       "      <td>51.0</td>\n",
       "      <td>3</td>\n",
       "      <td>1</td>\n",
       "      <td>700201</td>\n",
       "      <td>160.42</td>\n",
       "      <td>NaN</td>\n",
       "      <td>Queenstown</td>\n",
       "    </tr>\n",
       "    <tr>\n",
       "      <th>2</th>\n",
       "      <td>103</td>\n",
       "      <td>Second</td>\n",
       "      <td>Robert</td>\n",
       "      <td>Male</td>\n",
       "      <td>42.0</td>\n",
       "      <td>3</td>\n",
       "      <td>0</td>\n",
       "      <td>702237</td>\n",
       "      <td>105.65</td>\n",
       "      <td>NaN</td>\n",
       "      <td>Southampton</td>\n",
       "    </tr>\n",
       "    <tr>\n",
       "      <th>3</th>\n",
       "      <td>104</td>\n",
       "      <td>First</td>\n",
       "      <td>Michael</td>\n",
       "      <td>Female</td>\n",
       "      <td>60.0</td>\n",
       "      <td>2</td>\n",
       "      <td>1</td>\n",
       "      <td>931576</td>\n",
       "      <td>342.46</td>\n",
       "      <td>NaN</td>\n",
       "      <td>Southampton</td>\n",
       "    </tr>\n",
       "    <tr>\n",
       "      <th>4</th>\n",
       "      <td>105</td>\n",
       "      <td>Third</td>\n",
       "      <td>William</td>\n",
       "      <td>Male</td>\n",
       "      <td>38.5</td>\n",
       "      <td>4</td>\n",
       "      <td>0</td>\n",
       "      <td>210068</td>\n",
       "      <td>168.32</td>\n",
       "      <td>NaN</td>\n",
       "      <td>Southampton</td>\n",
       "    </tr>\n",
       "  </tbody>\n",
       "</table>\n",
       "</div>"
      ],
      "text/plain": [
       "    ID   Class FullName  Gender  Years  Siblings_Spouses  Parents_Children  \\\n",
       "0  101   First    James  Female   34.5                 2                 0   \n",
       "1  102   Third     John    Male   51.0                 3                 1   \n",
       "2  103  Second   Robert    Male   42.0                 3                 0   \n",
       "3  104   First  Michael  Female   60.0                 2                 1   \n",
       "4  105   Third  William    Male   38.5                 4                 0   \n",
       "\n",
       "   BookingCode  PricePaid RoomNumber         Port  \n",
       "0       597891     186.30        NaN   Queenstown  \n",
       "1       700201     160.42        NaN   Queenstown  \n",
       "2       702237     105.65        NaN  Southampton  \n",
       "3       931576     342.46        NaN  Southampton  \n",
       "4       210068     168.32        NaN  Southampton  "
      ]
     },
     "execution_count": 74,
     "metadata": {},
     "output_type": "execute_result"
    }
   ],
   "source": [
    "data.head()"
   ]
  },
  {
   "cell_type": "code",
   "execution_count": 75,
   "id": "fe0fdc8f-bea4-4c30-9d59-9eac9cdc6f46",
   "metadata": {},
   "outputs": [
    {
     "data": {
      "text/html": [
       "<div>\n",
       "<style scoped>\n",
       "    .dataframe tbody tr th:only-of-type {\n",
       "        vertical-align: middle;\n",
       "    }\n",
       "\n",
       "    .dataframe tbody tr th {\n",
       "        vertical-align: top;\n",
       "    }\n",
       "\n",
       "    .dataframe thead th {\n",
       "        text-align: right;\n",
       "    }\n",
       "</style>\n",
       "<table border=\"1\" class=\"dataframe\">\n",
       "  <thead>\n",
       "    <tr style=\"text-align: right;\">\n",
       "      <th></th>\n",
       "      <th>ID</th>\n",
       "      <th>Class</th>\n",
       "      <th>FullName</th>\n",
       "      <th>Gender</th>\n",
       "      <th>Years</th>\n",
       "      <th>Siblings_Spouses</th>\n",
       "      <th>Parents_Children</th>\n",
       "      <th>BookingCode</th>\n",
       "      <th>PricePaid</th>\n",
       "      <th>RoomNumber</th>\n",
       "      <th>Port</th>\n",
       "    </tr>\n",
       "  </thead>\n",
       "  <tbody>\n",
       "    <tr>\n",
       "      <th>192</th>\n",
       "      <td>293</td>\n",
       "      <td>Third</td>\n",
       "      <td>Sylvia</td>\n",
       "      <td>Male</td>\n",
       "      <td>11.5</td>\n",
       "      <td>1</td>\n",
       "      <td>1</td>\n",
       "      <td>209726</td>\n",
       "      <td>350.07</td>\n",
       "      <td>NaN</td>\n",
       "      <td>Southampton</td>\n",
       "    </tr>\n",
       "    <tr>\n",
       "      <th>193</th>\n",
       "      <td>294</td>\n",
       "      <td>Third</td>\n",
       "      <td>Eleanor</td>\n",
       "      <td>Male</td>\n",
       "      <td>61.0</td>\n",
       "      <td>4</td>\n",
       "      <td>0</td>\n",
       "      <td>391896</td>\n",
       "      <td>99.55</td>\n",
       "      <td>NaN</td>\n",
       "      <td>Cherbourg</td>\n",
       "    </tr>\n",
       "    <tr>\n",
       "      <th>194</th>\n",
       "      <td>295</td>\n",
       "      <td>First</td>\n",
       "      <td>Mia</td>\n",
       "      <td>Female</td>\n",
       "      <td>8.0</td>\n",
       "      <td>0</td>\n",
       "      <td>0</td>\n",
       "      <td>240542</td>\n",
       "      <td>166.33</td>\n",
       "      <td>NaN</td>\n",
       "      <td>Cherbourg</td>\n",
       "    </tr>\n",
       "    <tr>\n",
       "      <th>195</th>\n",
       "      <td>296</td>\n",
       "      <td>Third</td>\n",
       "      <td>Sophie</td>\n",
       "      <td>Female</td>\n",
       "      <td>33.0</td>\n",
       "      <td>0</td>\n",
       "      <td>2</td>\n",
       "      <td>613461</td>\n",
       "      <td>213.60</td>\n",
       "      <td>NaN</td>\n",
       "      <td>Southampton</td>\n",
       "    </tr>\n",
       "    <tr>\n",
       "      <th>196</th>\n",
       "      <td>297</td>\n",
       "      <td>First</td>\n",
       "      <td>Haze</td>\n",
       "      <td>Male</td>\n",
       "      <td>6.0</td>\n",
       "      <td>3</td>\n",
       "      <td>1</td>\n",
       "      <td>234753</td>\n",
       "      <td>454.93</td>\n",
       "      <td>E34</td>\n",
       "      <td>Queenstown</td>\n",
       "    </tr>\n",
       "  </tbody>\n",
       "</table>\n",
       "</div>"
      ],
      "text/plain": [
       "      ID  Class  FullName  Gender  Years  Siblings_Spouses  Parents_Children  \\\n",
       "192  293  Third    Sylvia    Male   11.5                 1                 1   \n",
       "193  294  Third   Eleanor    Male   61.0                 4                 0   \n",
       "194  295  First       Mia  Female    8.0                 0                 0   \n",
       "195  296  Third    Sophie  Female   33.0                 0                 2   \n",
       "196  297  First      Haze    Male    6.0                 3                 1   \n",
       "\n",
       "     BookingCode  PricePaid RoomNumber         Port  \n",
       "192       209726     350.07        NaN  Southampton  \n",
       "193       391896      99.55        NaN    Cherbourg  \n",
       "194       240542     166.33        NaN    Cherbourg  \n",
       "195       613461     213.60        NaN  Southampton  \n",
       "196       234753     454.93        E34   Queenstown  "
      ]
     },
     "execution_count": 75,
     "metadata": {},
     "output_type": "execute_result"
    }
   ],
   "source": [
    "data.tail()"
   ]
  },
  {
   "cell_type": "code",
   "execution_count": 76,
   "id": "94caa73c-f963-4b8c-8396-58ec1932db42",
   "metadata": {},
   "outputs": [
    {
     "data": {
      "text/html": [
       "<div>\n",
       "<style scoped>\n",
       "    .dataframe tbody tr th:only-of-type {\n",
       "        vertical-align: middle;\n",
       "    }\n",
       "\n",
       "    .dataframe tbody tr th {\n",
       "        vertical-align: top;\n",
       "    }\n",
       "\n",
       "    .dataframe thead th {\n",
       "        text-align: right;\n",
       "    }\n",
       "</style>\n",
       "<table border=\"1\" class=\"dataframe\">\n",
       "  <thead>\n",
       "    <tr style=\"text-align: right;\">\n",
       "      <th></th>\n",
       "      <th>ID</th>\n",
       "      <th>Years</th>\n",
       "      <th>Siblings_Spouses</th>\n",
       "      <th>Parents_Children</th>\n",
       "      <th>BookingCode</th>\n",
       "      <th>PricePaid</th>\n",
       "    </tr>\n",
       "  </thead>\n",
       "  <tbody>\n",
       "    <tr>\n",
       "      <th>count</th>\n",
       "      <td>197.000000</td>\n",
       "      <td>158.000000</td>\n",
       "      <td>197.000000</td>\n",
       "      <td>197.000000</td>\n",
       "      <td>197.000000</td>\n",
       "      <td>197.000000</td>\n",
       "    </tr>\n",
       "    <tr>\n",
       "      <th>mean</th>\n",
       "      <td>199.000000</td>\n",
       "      <td>31.534810</td>\n",
       "      <td>2.121827</td>\n",
       "      <td>0.989848</td>\n",
       "      <td>602248.492386</td>\n",
       "      <td>244.366244</td>\n",
       "    </tr>\n",
       "    <tr>\n",
       "      <th>std</th>\n",
       "      <td>57.013156</td>\n",
       "      <td>14.244243</td>\n",
       "      <td>1.349747</td>\n",
       "      <td>0.826783</td>\n",
       "      <td>239948.863206</td>\n",
       "      <td>144.022146</td>\n",
       "    </tr>\n",
       "    <tr>\n",
       "      <th>min</th>\n",
       "      <td>101.000000</td>\n",
       "      <td>1.000000</td>\n",
       "      <td>0.000000</td>\n",
       "      <td>0.000000</td>\n",
       "      <td>209726.000000</td>\n",
       "      <td>13.590000</td>\n",
       "    </tr>\n",
       "    <tr>\n",
       "      <th>25%</th>\n",
       "      <td>150.000000</td>\n",
       "      <td>22.000000</td>\n",
       "      <td>1.000000</td>\n",
       "      <td>0.000000</td>\n",
       "      <td>388069.000000</td>\n",
       "      <td>116.910000</td>\n",
       "    </tr>\n",
       "    <tr>\n",
       "      <th>50%</th>\n",
       "      <td>199.000000</td>\n",
       "      <td>28.750000</td>\n",
       "      <td>2.000000</td>\n",
       "      <td>1.000000</td>\n",
       "      <td>613461.000000</td>\n",
       "      <td>235.230000</td>\n",
       "    </tr>\n",
       "    <tr>\n",
       "      <th>75%</th>\n",
       "      <td>248.000000</td>\n",
       "      <td>41.000000</td>\n",
       "      <td>3.000000</td>\n",
       "      <td>2.000000</td>\n",
       "      <td>783029.000000</td>\n",
       "      <td>367.820000</td>\n",
       "    </tr>\n",
       "    <tr>\n",
       "      <th>max</th>\n",
       "      <td>297.000000</td>\n",
       "      <td>76.000000</td>\n",
       "      <td>4.000000</td>\n",
       "      <td>2.000000</td>\n",
       "      <td>993567.000000</td>\n",
       "      <td>497.860000</td>\n",
       "    </tr>\n",
       "  </tbody>\n",
       "</table>\n",
       "</div>"
      ],
      "text/plain": [
       "               ID       Years  Siblings_Spouses  Parents_Children  \\\n",
       "count  197.000000  158.000000        197.000000        197.000000   \n",
       "mean   199.000000   31.534810          2.121827          0.989848   \n",
       "std     57.013156   14.244243          1.349747          0.826783   \n",
       "min    101.000000    1.000000          0.000000          0.000000   \n",
       "25%    150.000000   22.000000          1.000000          0.000000   \n",
       "50%    199.000000   28.750000          2.000000          1.000000   \n",
       "75%    248.000000   41.000000          3.000000          2.000000   \n",
       "max    297.000000   76.000000          4.000000          2.000000   \n",
       "\n",
       "         BookingCode   PricePaid  \n",
       "count     197.000000  197.000000  \n",
       "mean   602248.492386  244.366244  \n",
       "std    239948.863206  144.022146  \n",
       "min    209726.000000   13.590000  \n",
       "25%    388069.000000  116.910000  \n",
       "50%    613461.000000  235.230000  \n",
       "75%    783029.000000  367.820000  \n",
       "max    993567.000000  497.860000  "
      ]
     },
     "execution_count": 76,
     "metadata": {},
     "output_type": "execute_result"
    }
   ],
   "source": [
    "data.describe()"
   ]
  },
  {
   "cell_type": "code",
   "execution_count": 77,
   "id": "46919590-9217-45e1-8c51-a07d2be32e12",
   "metadata": {},
   "outputs": [
    {
     "name": "stdout",
     "output_type": "stream",
     "text": [
      "<class 'pandas.core.frame.DataFrame'>\n",
      "RangeIndex: 197 entries, 0 to 196\n",
      "Data columns (total 11 columns):\n",
      " #   Column            Non-Null Count  Dtype  \n",
      "---  ------            --------------  -----  \n",
      " 0   ID                197 non-null    int64  \n",
      " 1   Class             197 non-null    object \n",
      " 2   FullName          197 non-null    object \n",
      " 3   Gender            197 non-null    object \n",
      " 4   Years             158 non-null    float64\n",
      " 5   Siblings_Spouses  197 non-null    int64  \n",
      " 6   Parents_Children  197 non-null    int64  \n",
      " 7   BookingCode       197 non-null    int64  \n",
      " 8   PricePaid         197 non-null    float64\n",
      " 9   RoomNumber        45 non-null     object \n",
      " 10  Port              197 non-null    object \n",
      "dtypes: float64(2), int64(4), object(5)\n",
      "memory usage: 17.1+ KB\n"
     ]
    }
   ],
   "source": [
    "data.info()"
   ]
  },
  {
   "cell_type": "code",
   "execution_count": 85,
   "id": "5820b27b-f041-43fe-9838-510ca38aa58c",
   "metadata": {},
   "outputs": [
    {
     "data": {
      "text/plain": [
       "ID                  0\n",
       "Class               0\n",
       "FullName            0\n",
       "Gender              0\n",
       "Years               0\n",
       "Siblings_Spouses    0\n",
       "Parents_Children    0\n",
       "BookingCode         0\n",
       "PricePaid           0\n",
       "RoomNumber          0\n",
       "Port                0\n",
       "dtype: int64"
      ]
     },
     "execution_count": 85,
     "metadata": {},
     "output_type": "execute_result"
    }
   ],
   "source": [
    "data.isnull().sum()"
   ]
  },
  {
   "cell_type": "code",
   "execution_count": null,
   "id": "c765206b-bbfb-4973-a4e7-1ba0ce1aa178",
   "metadata": {},
   "outputs": [],
   "source": [
    "data.dropna(subset=[\"Port\"],inplace=True)\n",
    "data[\"RoomNumber\"].fillna(\"Unknown\",inplace=True)\n",
    "data[\"Years\"].fillna(data[\"Years\"].mean(),inplace=True)"
   ]
  },
  {
   "cell_type": "code",
   "execution_count": 86,
   "id": "0225738a-16cd-4fed-ba7d-ac5ed31a959d",
   "metadata": {},
   "outputs": [
    {
     "data": {
      "text/plain": [
       "ID                  0\n",
       "Class               0\n",
       "FullName            0\n",
       "Gender              0\n",
       "Years               0\n",
       "Siblings_Spouses    0\n",
       "Parents_Children    0\n",
       "BookingCode         0\n",
       "PricePaid           0\n",
       "RoomNumber          0\n",
       "Port                0\n",
       "dtype: int64"
      ]
     },
     "execution_count": 86,
     "metadata": {},
     "output_type": "execute_result"
    }
   ],
   "source": [
    "data.isnull().sum()"
   ]
  },
  {
   "cell_type": "code",
   "execution_count": 88,
   "id": "97cd86bf-5c98-467a-a645-67ab9c339852",
   "metadata": {},
   "outputs": [
    {
     "data": {
      "text/plain": [
       "np.int64(0)"
      ]
     },
     "execution_count": 88,
     "metadata": {},
     "output_type": "execute_result"
    }
   ],
   "source": [
    "data.duplicated().sum()"
   ]
  },
  {
   "cell_type": "code",
   "execution_count": 82,
   "id": "6500e890-4fc0-4249-9a69-c11a75691847",
   "metadata": {},
   "outputs": [
    {
     "data": {
      "image/png": "[encoded data removed]",
      "text/plain": [
       "<Figure size 600x300 with 1 Axes>"
      ]
     },
     "metadata": {},
     "output_type": "display_data"
    }
   ],
   "source": [
    "plt.figure(figsize=(6,3))\n",
    "sns.histplot(data[\"Years\"],kde=True)\n",
    "plt.title(\"Age Distributed\")\n",
    "plt.xlabel(\"Age\")\n",
    "plt.ylabel(\"Count\")\n",
    "plt.show()"
   ]
  },
  {
   "cell_type": "code",
   "execution_count": 83,
   "id": "9aa68814-a5ec-4fbb-a950-215ce3f20765",
   "metadata": {},
   "outputs": [
    {
     "name": "stderr",
     "output_type": "stream",
     "text": [
      "C:\\Users\\saniy\\AppData\\Local\\Temp\\ipykernel_18252\\823123355.py:6: UserWarning: No artists with labels found to put in legend.  Note that artists whose label start with an underscore are ignored when legend() is called with no argument.\n",
      "  plt.legend(title=\"Survived\",loc=\"upper right\")\n"
     ]
    },
    {
     "data": {
      "image/png": "[encoded data removed]",
      "text/plain": [
       "<Figure size 600x300 with 1 Axes>"
      ]
     },
     "metadata": {},
     "output_type": "display_data"
    }
   ],
   "source": [
    "plt.figure(figsize=(6,3))\n",
    "sns.countplot(data=data,x=\"Gender\",hue=\"Gender\")\n",
    "plt.title(\"Survival by Gender\")\n",
    "plt.xlabel(\"Gender\")\n",
    "plt.ylabel(\"Count\")\n",
    "plt.legend(title=\"Survived\",loc=\"upper right\")\n",
    "plt.show()"
   ]
  },
  {
   "cell_type": "code",
   "execution_count": 90,
   "id": "b6b3154c-5c09-493b-b10c-3b2cce87a1b4",
   "metadata": {},
   "outputs": [
    {
     "data": {
      "image/png": "[encoded data removed]",
      "text/plain": [
       "<Figure size 600x300 with 1 Axes>"
      ]
     },
     "metadata": {},
     "output_type": "display_data"
    }
   ],
   "source": [
    "plt.figure(figsize=(6,3))\n",
    "sns.scatterplot(data=data,x=\"Years\",y=\"PricePaid\", hue=\"Years\")\n",
    "plt.title(\"Scatter plot of Age and Fare\")\n",
    "plt.xlabel(\"Years\")\n",
    "plt.ylabel(\"PricePaid\")\n",
    "plt.legend(title=\"Survived\")\n",
    "plt.show()"
   ]
  },
  {
   "cell_type": "code",
   "execution_count": null,
   "id": "513ec294-982a-44c5-bac0-02941af831c1",
   "metadata": {},
   "outputs": [],
   "source": []
  }
 ],
 "metadata": {
  "kernelspec": {
   "display_name": "Python 3 (ipykernel)",
   "language": "python",
   "name": "python3"
  },
  "language_info": {
   "codemirror_mode": {
    "name": "ipython",
    "version": 3
   },
   "file_extension": ".py",
   "mimetype": "text/x-python",
   "name": "python",
   "nbconvert_exporter": "python",
   "pygments_lexer": "ipython3",
   "version": "3.12.5"
  }
 },
 "nbformat": 4,
 "nbformat_minor": 5
}
